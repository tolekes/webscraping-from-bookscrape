{
 "cells": [
  {
   "cell_type": "code",
   "execution_count": 8,
   "metadata": {},
   "outputs": [],
   "source": [
    "import bs4\n",
    "from urllib.request import urlopen as uReq\n",
    "from bs4 import BeautifulSoup as soup\n",
    "import pandas as pd"
   ]
  },
  {
   "cell_type": "code",
   "execution_count": 11,
   "metadata": {},
   "outputs": [],
   "source": [
    "pd.set_option('max_colwidth', 400)"
   ]
  },
  {
   "cell_type": "code",
   "execution_count": 2,
   "metadata": {},
   "outputs": [],
   "source": [
    "my_url = 'https://cointelegraph.com/'"
   ]
  },
  {
   "cell_type": "code",
   "execution_count": 17,
   "metadata": {},
   "outputs": [],
   "source": [
    "uClient = uReq(my_url)\n",
    "page_html = uClient.read()\n",
    "uClient.close()\n",
    "\n",
    "page_soup = soup(page_html, \"html.parser\")\n",
    "\n",
    "headnews = {}\n",
    "\n",
    "news1 = page_soup.findAll('div',{'class':'main-news-tabs__item-wrp'})\n",
    "\n",
    "for headline in news1:    \n",
    "    headnews[headline.a.text] = headline.a.get('href')\n",
    "    \n"
   ]
  },
  {
   "cell_type": "code",
   "execution_count": 18,
   "metadata": {},
   "outputs": [],
   "source": [
    "news_frame = pd.DataFrame(list(headnews.items()), columns = ['News_headline','News_link'])"
   ]
  },
  {
   "cell_type": "code",
   "execution_count": 19,
   "metadata": {},
   "outputs": [
    {
     "data": {
      "text/html": [
       "<div>\n",
       "<style scoped>\n",
       "    .dataframe tbody tr th:only-of-type {\n",
       "        vertical-align: middle;\n",
       "    }\n",
       "\n",
       "    .dataframe tbody tr th {\n",
       "        vertical-align: top;\n",
       "    }\n",
       "\n",
       "    .dataframe thead th {\n",
       "        text-align: right;\n",
       "    }\n",
       "</style>\n",
       "<table border=\"1\" class=\"dataframe\">\n",
       "  <thead>\n",
       "    <tr style=\"text-align: right;\">\n",
       "      <th></th>\n",
       "      <th>News_headline</th>\n",
       "      <th>News_link</th>\n",
       "    </tr>\n",
       "  </thead>\n",
       "  <tbody>\n",
       "    <tr>\n",
       "      <th>0</th>\n",
       "      <td>Japanese financial giant SBI acquires TaoTao crypto exchange</td>\n",
       "      <td>/news/japanese-financial-giant-sbi-acquires-taotao-crypto-exchange</td>\n",
       "    </tr>\n",
       "    <tr>\n",
       "      <th>1</th>\n",
       "      <td>Symbol blockchain to host whisky fund and central bank collectibles at launch</td>\n",
       "      <td>/news/symbol-blockchain-to-host-whisky-fund-and-central-bank-collectibles-at-launch</td>\n",
       "    </tr>\n",
       "    <tr>\n",
       "      <th>2</th>\n",
       "      <td>Markets will decide on regulations, not the government: Currency Comptroller</td>\n",
       "      <td>/news/markets-will-decide-on-regulations-not-the-government-currency-comptroller</td>\n",
       "    </tr>\n",
       "    <tr>\n",
       "      <th>3</th>\n",
       "      <td>US is losing 'tech cold war with China' says Ripple co-founder</td>\n",
       "      <td>/news/us-is-losing-tech-cold-war-with-china-says-ripple-co-founder</td>\n",
       "    </tr>\n",
       "    <tr>\n",
       "      <th>4</th>\n",
       "      <td>BNP Paribas and Curv unveil highly secure method to transfer security tokens</td>\n",
       "      <td>/news/bnp-paribas-and-curv-unveil-highly-secure-method-to-transfer-security-tokens</td>\n",
       "    </tr>\n",
       "    <tr>\n",
       "      <th>5</th>\n",
       "      <td>Bloomberg: Bitcoin ‘has had a tendency of adding zeroes to its price’</td>\n",
       "      <td>/news/bloomberg-bitcoin-has-had-a-tendency-of-adding-zeroes-to-its-price</td>\n",
       "    </tr>\n",
       "    <tr>\n",
       "      <th>6</th>\n",
       "      <td>Price analysis 10/2: BTC, ETH, XRP, BCH, BNB, DOT, LINK, CRO, BSV, LTC</td>\n",
       "      <td>/news/price-analysis-10-2-btc-eth-xrp-bch-bnb-dot-link-cro-bsv-ltc</td>\n",
       "    </tr>\n",
       "    <tr>\n",
       "      <th>7</th>\n",
       "      <td>BitMex has bled 45k Bitcoin since US gov charges, allowing other exchanges to benefit</td>\n",
       "      <td>/news/bitmex-has-bled-45k-bitcoin-since-us-gov-charges-allowing-other-exchanges-to-benefit</td>\n",
       "    </tr>\n",
       "    <tr>\n",
       "      <th>8</th>\n",
       "      <td>Crypto-powered freelancing site charges no fees and pays instantly</td>\n",
       "      <td>/news/crypto-powered-freelancing-site-charges-no-fees-and-pays-instantly</td>\n",
       "    </tr>\n",
       "    <tr>\n",
       "      <th>9</th>\n",
       "      <td>IBM executive says blockchain becoming a useful ‘real business tool’</td>\n",
       "      <td>/news/ibm-executive-says-blockchain-becoming-a-useful-real-business-tool</td>\n",
       "    </tr>\n",
       "  </tbody>\n",
       "</table>\n",
       "</div>"
      ],
      "text/plain": [
       "                                                                             News_headline  \\\n",
       "0                            Japanese financial giant SBI acquires TaoTao crypto exchange    \n",
       "1          Symbol blockchain to host whisky fund and central bank collectibles at launch     \n",
       "2           Markets will decide on regulations, not the government: Currency Comptroller     \n",
       "3                          US is losing 'tech cold war with China' says Ripple co-founder    \n",
       "4           BNP Paribas and Curv unveil highly secure method to transfer security tokens     \n",
       "5                   Bloomberg: Bitcoin ‘has had a tendency of adding zeroes to its price’    \n",
       "6                  Price analysis 10/2: BTC, ETH, XRP, BCH, BNB, DOT, LINK, CRO, BSV, LTC    \n",
       "7   BitMex has bled 45k Bitcoin since US gov charges, allowing other exchanges to benefit    \n",
       "8                      Crypto-powered freelancing site charges no fees and pays instantly    \n",
       "9                   IBM executive says blockchain becoming a useful ‘real business tool’     \n",
       "\n",
       "                                                                                    News_link  \n",
       "0                          /news/japanese-financial-giant-sbi-acquires-taotao-crypto-exchange  \n",
       "1         /news/symbol-blockchain-to-host-whisky-fund-and-central-bank-collectibles-at-launch  \n",
       "2            /news/markets-will-decide-on-regulations-not-the-government-currency-comptroller  \n",
       "3                          /news/us-is-losing-tech-cold-war-with-china-says-ripple-co-founder  \n",
       "4          /news/bnp-paribas-and-curv-unveil-highly-secure-method-to-transfer-security-tokens  \n",
       "5                    /news/bloomberg-bitcoin-has-had-a-tendency-of-adding-zeroes-to-its-price  \n",
       "6                          /news/price-analysis-10-2-btc-eth-xrp-bch-bnb-dot-link-cro-bsv-ltc  \n",
       "7  /news/bitmex-has-bled-45k-bitcoin-since-us-gov-charges-allowing-other-exchanges-to-benefit  \n",
       "8                    /news/crypto-powered-freelancing-site-charges-no-fees-and-pays-instantly  \n",
       "9                    /news/ibm-executive-says-blockchain-becoming-a-useful-real-business-tool  "
      ]
     },
     "execution_count": 19,
     "metadata": {},
     "output_type": "execute_result"
    }
   ],
   "source": [
    "news_frame"
   ]
  },
  {
   "cell_type": "code",
   "execution_count": 26,
   "metadata": {},
   "outputs": [],
   "source": [
    "news_frame.News_link = 'https://cointelegraph.com/'+ news_frame.News_link "
   ]
  },
  {
   "cell_type": "code",
   "execution_count": 27,
   "metadata": {},
   "outputs": [
    {
     "data": {
      "text/plain": [
       "0                            https://cointelegraph.com//news/japanese-financial-giant-sbi-acquires-taotao-crypto-exchange\n",
       "1           https://cointelegraph.com//news/symbol-blockchain-to-host-whisky-fund-and-central-bank-collectibles-at-launch\n",
       "2              https://cointelegraph.com//news/markets-will-decide-on-regulations-not-the-government-currency-comptroller\n",
       "3                            https://cointelegraph.com//news/us-is-losing-tech-cold-war-with-china-says-ripple-co-founder\n",
       "4            https://cointelegraph.com//news/bnp-paribas-and-curv-unveil-highly-secure-method-to-transfer-security-tokens\n",
       "5                      https://cointelegraph.com//news/bloomberg-bitcoin-has-had-a-tendency-of-adding-zeroes-to-its-price\n",
       "6                            https://cointelegraph.com//news/price-analysis-10-2-btc-eth-xrp-bch-bnb-dot-link-cro-bsv-ltc\n",
       "7    https://cointelegraph.com//news/bitmex-has-bled-45k-bitcoin-since-us-gov-charges-allowing-other-exchanges-to-benefit\n",
       "8                      https://cointelegraph.com//news/crypto-powered-freelancing-site-charges-no-fees-and-pays-instantly\n",
       "9                      https://cointelegraph.com//news/ibm-executive-says-blockchain-becoming-a-useful-real-business-tool\n",
       "Name: News_link, dtype: object"
      ]
     },
     "execution_count": 27,
     "metadata": {},
     "output_type": "execute_result"
    }
   ],
   "source": [
    "news_frame.News_link"
   ]
  },
  {
   "cell_type": "code",
   "execution_count": 28,
   "metadata": {},
   "outputs": [
    {
     "data": {
      "text/html": [
       "<div>\n",
       "<style scoped>\n",
       "    .dataframe tbody tr th:only-of-type {\n",
       "        vertical-align: middle;\n",
       "    }\n",
       "\n",
       "    .dataframe tbody tr th {\n",
       "        vertical-align: top;\n",
       "    }\n",
       "\n",
       "    .dataframe thead th {\n",
       "        text-align: right;\n",
       "    }\n",
       "</style>\n",
       "<table border=\"1\" class=\"dataframe\">\n",
       "  <thead>\n",
       "    <tr style=\"text-align: right;\">\n",
       "      <th></th>\n",
       "      <th>News_headline</th>\n",
       "      <th>News_link</th>\n",
       "    </tr>\n",
       "  </thead>\n",
       "  <tbody>\n",
       "    <tr>\n",
       "      <th>0</th>\n",
       "      <td>Japanese financial giant SBI acquires TaoTao crypto exchange</td>\n",
       "      <td>https://cointelegraph.com//news/japanese-financial-giant-sbi-acquires-taotao-crypto-exchange</td>\n",
       "    </tr>\n",
       "    <tr>\n",
       "      <th>1</th>\n",
       "      <td>Symbol blockchain to host whisky fund and central bank collectibles at launch</td>\n",
       "      <td>https://cointelegraph.com//news/symbol-blockchain-to-host-whisky-fund-and-central-bank-collectibles-at-launch</td>\n",
       "    </tr>\n",
       "    <tr>\n",
       "      <th>2</th>\n",
       "      <td>Markets will decide on regulations, not the government: Currency Comptroller</td>\n",
       "      <td>https://cointelegraph.com//news/markets-will-decide-on-regulations-not-the-government-currency-comptroller</td>\n",
       "    </tr>\n",
       "    <tr>\n",
       "      <th>3</th>\n",
       "      <td>US is losing 'tech cold war with China' says Ripple co-founder</td>\n",
       "      <td>https://cointelegraph.com//news/us-is-losing-tech-cold-war-with-china-says-ripple-co-founder</td>\n",
       "    </tr>\n",
       "    <tr>\n",
       "      <th>4</th>\n",
       "      <td>BNP Paribas and Curv unveil highly secure method to transfer security tokens</td>\n",
       "      <td>https://cointelegraph.com//news/bnp-paribas-and-curv-unveil-highly-secure-method-to-transfer-security-tokens</td>\n",
       "    </tr>\n",
       "    <tr>\n",
       "      <th>5</th>\n",
       "      <td>Bloomberg: Bitcoin ‘has had a tendency of adding zeroes to its price’</td>\n",
       "      <td>https://cointelegraph.com//news/bloomberg-bitcoin-has-had-a-tendency-of-adding-zeroes-to-its-price</td>\n",
       "    </tr>\n",
       "    <tr>\n",
       "      <th>6</th>\n",
       "      <td>Price analysis 10/2: BTC, ETH, XRP, BCH, BNB, DOT, LINK, CRO, BSV, LTC</td>\n",
       "      <td>https://cointelegraph.com//news/price-analysis-10-2-btc-eth-xrp-bch-bnb-dot-link-cro-bsv-ltc</td>\n",
       "    </tr>\n",
       "    <tr>\n",
       "      <th>7</th>\n",
       "      <td>BitMex has bled 45k Bitcoin since US gov charges, allowing other exchanges to benefit</td>\n",
       "      <td>https://cointelegraph.com//news/bitmex-has-bled-45k-bitcoin-since-us-gov-charges-allowing-other-exchanges-to-benefit</td>\n",
       "    </tr>\n",
       "    <tr>\n",
       "      <th>8</th>\n",
       "      <td>Crypto-powered freelancing site charges no fees and pays instantly</td>\n",
       "      <td>https://cointelegraph.com//news/crypto-powered-freelancing-site-charges-no-fees-and-pays-instantly</td>\n",
       "    </tr>\n",
       "    <tr>\n",
       "      <th>9</th>\n",
       "      <td>IBM executive says blockchain becoming a useful ‘real business tool’</td>\n",
       "      <td>https://cointelegraph.com//news/ibm-executive-says-blockchain-becoming-a-useful-real-business-tool</td>\n",
       "    </tr>\n",
       "  </tbody>\n",
       "</table>\n",
       "</div>"
      ],
      "text/plain": [
       "                                                                             News_headline  \\\n",
       "0                            Japanese financial giant SBI acquires TaoTao crypto exchange    \n",
       "1          Symbol blockchain to host whisky fund and central bank collectibles at launch     \n",
       "2           Markets will decide on regulations, not the government: Currency Comptroller     \n",
       "3                          US is losing 'tech cold war with China' says Ripple co-founder    \n",
       "4           BNP Paribas and Curv unveil highly secure method to transfer security tokens     \n",
       "5                   Bloomberg: Bitcoin ‘has had a tendency of adding zeroes to its price’    \n",
       "6                  Price analysis 10/2: BTC, ETH, XRP, BCH, BNB, DOT, LINK, CRO, BSV, LTC    \n",
       "7   BitMex has bled 45k Bitcoin since US gov charges, allowing other exchanges to benefit    \n",
       "8                      Crypto-powered freelancing site charges no fees and pays instantly    \n",
       "9                   IBM executive says blockchain becoming a useful ‘real business tool’     \n",
       "\n",
       "                                                                                                              News_link  \n",
       "0                          https://cointelegraph.com//news/japanese-financial-giant-sbi-acquires-taotao-crypto-exchange  \n",
       "1         https://cointelegraph.com//news/symbol-blockchain-to-host-whisky-fund-and-central-bank-collectibles-at-launch  \n",
       "2            https://cointelegraph.com//news/markets-will-decide-on-regulations-not-the-government-currency-comptroller  \n",
       "3                          https://cointelegraph.com//news/us-is-losing-tech-cold-war-with-china-says-ripple-co-founder  \n",
       "4          https://cointelegraph.com//news/bnp-paribas-and-curv-unveil-highly-secure-method-to-transfer-security-tokens  \n",
       "5                    https://cointelegraph.com//news/bloomberg-bitcoin-has-had-a-tendency-of-adding-zeroes-to-its-price  \n",
       "6                          https://cointelegraph.com//news/price-analysis-10-2-btc-eth-xrp-bch-bnb-dot-link-cro-bsv-ltc  \n",
       "7  https://cointelegraph.com//news/bitmex-has-bled-45k-bitcoin-since-us-gov-charges-allowing-other-exchanges-to-benefit  \n",
       "8                    https://cointelegraph.com//news/crypto-powered-freelancing-site-charges-no-fees-and-pays-instantly  \n",
       "9                    https://cointelegraph.com//news/ibm-executive-says-blockchain-becoming-a-useful-real-business-tool  "
      ]
     },
     "execution_count": 28,
     "metadata": {},
     "output_type": "execute_result"
    }
   ],
   "source": [
    "news_frame"
   ]
  },
  {
   "cell_type": "code",
   "execution_count": null,
   "metadata": {},
   "outputs": [],
   "source": []
  }
 ],
 "metadata": {
  "kernelspec": {
   "display_name": "Python 3",
   "language": "python",
   "name": "python3"
  },
  "language_info": {
   "codemirror_mode": {
    "name": "ipython",
    "version": 3
   },
   "file_extension": ".py",
   "mimetype": "text/x-python",
   "name": "python",
   "nbconvert_exporter": "python",
   "pygments_lexer": "ipython3",
   "version": "3.7.3"
  }
 },
 "nbformat": 4,
 "nbformat_minor": 2
}
